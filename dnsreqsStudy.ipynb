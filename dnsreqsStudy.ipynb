{
 "cells": [
  {
   "cell_type": "code",
   "execution_count": 1,
   "metadata": {
    "collapsed": false
   },
   "outputs": [
    {
     "ename": "ImportError",
     "evalue": "No module named seaborn",
     "output_type": "error",
     "traceback": [
      "\u001b[0;31m---------------------------------------------------------------------------\u001b[0m",
      "\u001b[0;31mImportError\u001b[0m                               Traceback (most recent call last)",
      "\u001b[0;32m<ipython-input-1-a482af2aea04>\u001b[0m in \u001b[0;36m<module>\u001b[0;34m()\u001b[0m\n\u001b[1;32m      1\u001b[0m \u001b[0;32mimport\u001b[0m \u001b[0mnumpy\u001b[0m \u001b[0;32mas\u001b[0m \u001b[0mnp\u001b[0m\u001b[0;34m\u001b[0m\u001b[0m\n\u001b[1;32m      2\u001b[0m \u001b[0;32mimport\u001b[0m \u001b[0mpandas\u001b[0m \u001b[0;32mas\u001b[0m \u001b[0mpd\u001b[0m\u001b[0;34m\u001b[0m\u001b[0m\n\u001b[0;32m----> 3\u001b[0;31m \u001b[0;32mimport\u001b[0m \u001b[0mseaborn\u001b[0m \u001b[0;32mas\u001b[0m \u001b[0msns\u001b[0m\u001b[0;34m\u001b[0m\u001b[0m\n\u001b[0m\u001b[1;32m      4\u001b[0m \u001b[0;34m\u001b[0m\u001b[0m\n\u001b[1;32m      5\u001b[0m \u001b[0;32mimport\u001b[0m \u001b[0mmatplotlib\u001b[0m\u001b[0;34m.\u001b[0m\u001b[0mpyplot\u001b[0m \u001b[0;32mas\u001b[0m \u001b[0mplt\u001b[0m\u001b[0;34m\u001b[0m\u001b[0m\n",
      "\u001b[0;31mImportError\u001b[0m: No module named seaborn"
     ]
    }
   ],
   "source": [
    "import numpy as np\n",
    "import pandas as pd\n",
    "import seaborn as sns\n",
    "\n",
    "import matplotlib.pyplot as plt\n",
    "\n",
    "from collections import defaultdict\n",
    "\n",
    "from model.Base import Base\n",
    "from model.Device import Device\n",
    "from model.DnsReq import DnsReq\n",
    "from model.User import User\n",
    "from model.user_devices import user_devices\n",
    "\n",
    "from sqlalchemy import create_engine, text, func\n",
    "from sqlalchemy.orm import sessionmaker\n",
    "from sqlalchemy.pool import NullPool\n",
    "\n",
    "from IPython.display import display\n",
    "\n",
    "DB='postgresql+psycopg2:///ucnstudy'\n",
    "\n",
    "engine = create_engine(DB, echo=False, poolclass=NullPool)\n",
    "Base.metadata.bind = engine\n",
    "Session = sessionmaker(bind=engine)"
   ]
  },
  {
   "cell_type": "code",
   "execution_count": null,
   "metadata": {
    "collapsed": true
   },
   "outputs": [],
   "source": [
    "ses = Session()\n",
    "users = ses.query(User)\n",
    "\n",
    "for user in users:\n",
    "    sql_user_devices = text('select * from user, user_devices where user_devices.user_id =:user').bindparams(user = user.id)\n",
    "    user_devices = ses.execute(sql_user_devices)\n",
    "\n",
    "    #will get the starting time and ending times considering all devices\n",
    "    print (\"user: \" + str(user.id) + \"=======================\")\n",
    "    quantity_dev = 0\n",
    "    info_week_beg = {}\n",
    "    info_week_end ={}\n",
    "    for dev in user_devices:\n",
    "\n",
    "        sql_beg_day = text('SELECT distinct devid, dnsreqs.ts, query_domain \\\n",
    "        FROM dnsreqs join \\\n",
    "        (SELECT DATE(ts) as date_entered, MIN(ts) as min_time \\\n",
    "        FROM dnsreqs \\\n",
    "        WHERE devid = :d_id and extract (hour from ts) > 3 GROUP BY date(ts))\\\n",
    "        AS grp ON grp.min_time = dnsreqs.ts order by dnsreqs.ts;').bindparams(d_id = dev.device_id)\n",
    "        result_beg_day = ses.execute(sql_beg_day)\n",
    "            \n",
    "        sql_end_day = text('SELECT distinct devid, dnsreqs.ts, query_domain \\\n",
    "        FROM dnsreqs join \\\n",
    "        (SELECT DATE(ts) as date_entered, MAX(ts) as max_time \\\n",
    "        FROM dnsreqs \\\n",
    "        WHERE devid = :d_id GROUP BY date(ts)) \\\n",
    "        AS grp ON grp.max_time = dnsreqs.ts order by dnsreqs.ts;').bindparams(d_id = dev.device_id)\n",
    "        result_end_day = ses.execute(sql_end_day)\n",
    "\n",
    "        sql_beg_day_nolimit = text('SELECT distinct devid, dnsreqs.ts, query_domain \\\n",
    "        FROM dnsreqs join \\\n",
    "        (SELECT DATE(ts) as date_entered, MIN(ts) as min_time \\\n",
    "        FROM dnsreqs \\\n",
    "        WHERE devid = :d_id GROUP BY date(ts))\\\n",
    "        AS grp ON grp.min_time = dnsreqs.ts order by dnsreqs.ts;').bindparams(d_id = dev.device_id)\n",
    "        result_beg_day_nolimit = ses.execute(sql_beg_day_nolimit)\n",
    "            \n",
    "        devices_result = ses.query(Device).order_by(Device.id)\n",
    "        devices_platform = {}\n",
    "        for item in devices_result:\n",
    "            devices_platform[item.id] = item.platform\n",
    "\n",
    "        #organize data\n",
    "        info_end = defaultdict(list)\n",
    "        for row in result_end_day:\n",
    "            info_end['devid'].append(row[0])\n",
    "            info_end['end'].append(row[1])\n",
    "            info_end['domain'].append(row[2])\n",
    "        \n",
    "        info_beg = defaultdict(list)\n",
    "        for row in result_beg_day:\n",
    "            info_beg['devid'].append(row[0])\n",
    "            info_beg['start'].append(row[1])\n",
    "            info_beg['domain'].append(row[2])\n",
    "\n",
    "        #add days that only have value before 3 am\n",
    "        for row in result_beg_day_nolimit:\n",
    "            timst = row[1]\n",
    "            in_list = False\n",
    "            for dt in info_beg['start']:\n",
    "                if dt.date() == timst.date():\n",
    "                    in_list = True\n",
    "            if in_list == False:\n",
    "                #insert in the correct position\n",
    "                cont = 0\n",
    "                for dat in info_beg['start']:\n",
    "                    if timst.date() > dat.date():\n",
    "                        cont = cont + 1\n",
    "                info_beg['start'].insert(cont, timst)\n",
    "                info_beg['devid'].insert(cont, row[0])\n",
    "                info_beg['domain'].insert(cont, row[2])\n",
    "\n",
    "        df_beg = pd.DataFrame(info_beg)\n",
    "        display(df_beg)\n",
    "        df_end = pd.DataFrame(info_end)\n",
    "        display(df_end)"
   ]
  }
 ],
 "metadata": {
  "kernelspec": {
   "display_name": "Python 2",
   "language": "python",
   "name": "python2"
  },
  "language_info": {
   "codemirror_mode": {
    "name": "ipython",
    "version": 2
   },
   "file_extension": ".py",
   "mimetype": "text/x-python",
   "name": "python",
   "nbconvert_exporter": "python",
   "pygments_lexer": "ipython2",
   "version": "2.7.10"
  }
 },
 "nbformat": 4,
 "nbformat_minor": 2
}
