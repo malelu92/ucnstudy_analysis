{
 "cells": [
  {
   "cell_type": "code",
   "execution_count": 1,
   "metadata": {
    "collapsed": false,
    "deletable": true,
    "editable": true
   },
   "outputs": [],
   "source": [
    "import numpy as np\n",
    "import pandas as pd\n",
    "\n",
    "import matplotlib.pyplot as plt\n",
    "\n",
    "from model.Base import Base\n",
    "from model.DeviceAppTraffic import DeviceAppTraffic\n",
    "\n",
    "from sqlalchemy import create_engine, text, func\n",
    "from sqlalchemy.orm import sessionmaker\n",
    "from sqlalchemy.pool import NullPool\n",
    "\n",
    "#output_notebook()\n",
    "\n",
    "DB='postgresql+psycopg2:///ucnstudy'\n",
    "\n",
    "engine = create_engine(DB, echo=False, poolclass=NullPool)\n",
    "Base.metadata.bind = engine\n",
    "Session = sessionmaker(bind=engine) "
   ]
  },
  {
   "cell_type": "code",
   "execution_count": 3,
   "metadata": {
    "collapsed": false,
    "deletable": true,
    "editable": true
   },
   "outputs": [
    {
     "name": "stdout",
     "output_type": "stream",
     "text": [
      "408\n",
      "5033\n",
      "387\n",
      "156\n",
      "177\n",
      "266\n",
      "204\n",
      "60\n",
      "148\n",
      "142\n"
     ]
    }
   ],
   "source": [
    "ses = Session()\n",
    "\n",
    "devApp = ses.query(DeviceAppTraffic).limit(10)\n",
    "\n",
    "for item in devApp:\n",
    "    print (item.bytes_in)"
   ]
  },
  {
   "cell_type": "code",
   "execution_count": null,
   "metadata": {
    "collapsed": true
   },
   "outputs": [],
   "source": []
  }
 ],
 "metadata": {
  "kernelspec": {
   "display_name": "Python 2",
   "language": "python",
   "name": "python2"
  },
  "language_info": {
   "codemirror_mode": {
    "name": "ipython",
    "version": 2
   },
   "file_extension": ".py",
   "mimetype": "text/x-python",
   "name": "python",
   "nbconvert_exporter": "python",
   "pygments_lexer": "ipython2",
   "version": "2.7.6"
  }
 },
 "nbformat": 4,
 "nbformat_minor": 2
}
